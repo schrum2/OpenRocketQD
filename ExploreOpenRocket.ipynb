{
 "cells": [
  {
   "cell_type": "code",
   "execution_count": 1,
   "metadata": {},
   "outputs": [],
   "source": [
    "import os\n",
    "\n",
    "import numpy as np\n",
    "from matplotlib import pyplot as plt\n",
    "\n",
    "import orhelper\n",
    "from orhelper import FlightDataType, FlightEvent"
   ]
  },
  {
   "cell_type": "code",
   "execution_count": 2,
   "metadata": {},
   "outputs": [
    {
     "name": "stdout",
     "output_type": "stream",
     "text": [
      "Nose: Aft Radius: 0.0125\n",
      "Nose: Length: 0.1\n",
      "Nose: CG: (0.076,0.000,0.000,w=0.013)\n",
      "Nose: Name: Nose cone\n",
      "Nose: Type: Ogive\n",
      "Nose: type(Type): <java class 'net.sf.openrocket.rocketcomponent.Transition.Shape$Anonymous'>\n",
      "Nose: Shape Parameter: 1.0\n",
      "Rocket: Longitudinal Inertia: 0.0\n",
      "Rocket: Rotational Inertia: 0.0\n",
      "Fin: Count: 3\n",
      "Fin: Points: [<java object 'net.sf.openrocket.util.Coordinate'>, <java object 'net.sf.openrocket.util.Coordinate'>, <java object 'net.sf.openrocket.util.Coordinate'>, <java object 'net.sf.openrocket.util.Coordinate'>]\n",
      "Fin: Debug: FreeformFinSet@376668615[\"Freeform fin set\"]\n",
      "(0.000,0.000,0.000)\n",
      "(0.025,0.030,0.000)\n",
      "(0.075,0.030,0.000)\n",
      "(0.050,0.000,0.000)\n",
      "(0.000,0.000,0.000)\n",
      "(0.020,0.040,0.000)\n",
      "(0.050,0.000,0.000)\n",
      "config:  net.sf.openrocket.rocketcomponent.Configuration@19a31b9d\n",
      "(0.255,0.000,0.000,w=0.069)\n"
     ]
    }
   ],
   "source": [
    "with orhelper.OpenRocketInstance() as instance:\n",
    "    orh = orhelper.Helper(instance)\n",
    "    from net.sf.openrocket.util import Coordinate\n",
    "    from net.sf.openrocket.aerodynamics import BarrowmanCalculator # used for CP\n",
    "    from net.sf.openrocket.masscalc import BasicMassCalculator\n",
    "    from net.sf.openrocket.masscalc import MassCalculator\n",
    "    # Load document, run simulation and get data and events\n",
    "    doc = orh.load_doc(os.path.join('examples', 'modified.ork'))\n",
    "    sim = doc.getSimulation(0)\n",
    "    # Added code here\n",
    "    opts = sim.getOptions()\n",
    "    rocket = opts.getRocket()\n",
    "    nose = orh.get_component_named(rocket, 'Nose cone')\n",
    "    print('Nose: Aft Radius:', nose.getAftRadius())\n",
    "    #print('Nose: Fore Radius:', nose.getForeRadius())\n",
    "    print('Nose: Length:', nose.getLength())\n",
    "    #print('Nose: Appearance:', nose.getAppearance())\n",
    "    print('Nose: CG:', nose.getCG())\n",
    "    print('Nose: Name:', nose.getName())\n",
    "    print('Nose: Type:', nose.getType())\n",
    "    print('Nose: type(Type):', type(nose.getType()))\n",
    "    print('Nose: Shape Parameter:', nose.getShapeParameter())\n",
    "    body = orh.get_component_named(rocket, 'Body tube')\n",
    "    print('Rocket: Longitudinal Inertia:', rocket.getLongitudinalInertia())\n",
    "    print('Rocket: Rotational Inertia:', rocket.getRotationalInertia())\n",
    "    fins = orh.get_component_named(body, 'Freeform fin set')\n",
    "    print('Fin: Count:', fins.getFinCount())\n",
    "    print('Fin: Points:', fins.getFinPoints())\n",
    "    print('Fin: Debug:', fins.toDebugString())\n",
    "    points = fins.getFinPoints()\n",
    "    for p in points:\n",
    "        #fins.removePoint(0)\n",
    "        print(p)\n",
    "    new_points = [Coordinate(0.0,0.0,0.0), Coordinate(0.02,0.04,0.0), Coordinate(0.05, 0.0, 0.0)]\n",
    "    fins.setPoints(new_points)\n",
    "    #fins.setPoints([])\n",
    "    points = fins.getFinPoints()\n",
    "    for p in points:\n",
    "        print(p)\n",
    "    #aerodynamicCalculator = BarrowmanCalculator()\n",
    "    #cp = aerodynamicCalculator.getCP()\n",
    "    conf = rocket.getDefaultConfiguration()\n",
    "    print(\"config: \", conf)\n",
    "    bmc = BasicMassCalculator()\n",
    "    mct = MassCalculator.MassCalcType.LAUNCH_MASS \n",
    "    print(bmc.getCG(conf, mct))"
   ]
  },
  {
   "cell_type": "code",
   "execution_count": null,
   "metadata": {},
   "outputs": [],
   "source": []
  }
 ],
 "metadata": {
  "kernelspec": {
   "display_name": "Python 3",
   "language": "python",
   "name": "python3"
  },
  "language_info": {
   "codemirror_mode": {
    "name": "ipython",
    "version": 3
   },
   "file_extension": ".py",
   "mimetype": "text/x-python",
   "name": "python",
   "nbconvert_exporter": "python",
   "pygments_lexer": "ipython3",
   "version": "3.7.3"
  }
 },
 "nbformat": 4,
 "nbformat_minor": 5
}
